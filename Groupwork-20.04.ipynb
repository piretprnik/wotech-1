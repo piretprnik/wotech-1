{
  "nbformat": 4,
  "nbformat_minor": 0,
  "metadata": {
    "colab": {
      "provenance": [],
      "authorship_tag": "ABX9TyMejhhQ7P2Hc7qLqt8znZ7p",
      "include_colab_link": true
    },
    "kernelspec": {
      "name": "python3",
      "display_name": "Python 3"
    },
    "language_info": {
      "name": "python"
    }
  },
  "cells": [
    {
      "cell_type": "markdown",
      "metadata": {
        "id": "view-in-github",
        "colab_type": "text"
      },
      "source": [
        "<a href=\"https://colab.research.google.com/github/piretprnik/wotech-1/blob/main/Groupwork-20.04.ipynb\" target=\"_parent\"><img src=\"https://colab.research.google.com/assets/colab-badge.svg\" alt=\"Open In Colab\"/></a>"
      ]
    },
    {
      "cell_type": "markdown",
      "source": [
        "Team work: Analyzing Numbers - Iterate through a list of 10 random numbers and determine whether each number is higher or lower than 5.\n",
        "Hints:\n",
        "Use a for loop to iterate through the list of numbers.\n",
        "Use if, elif, and else statements to check each number against 5.\n",
        "\n",
        "Example Output:\n",
        "3 is lower than 5\n",
        "8 is higher than 5\n",
        "1 is lower than 5\n",
        "6 is higher than 5 ......."
      ],
      "metadata": {
        "id": "8SQRVfbYxCst"
      }
    },
    {
      "cell_type": "code",
      "execution_count": 5,
      "metadata": {
        "colab": {
          "base_uri": "https://localhost:8080/"
        },
        "id": "6NfaryfGqZxw",
        "outputId": "dadf7756-139b-4a88-e04e-71c64d5c63a8"
      },
      "outputs": [
        {
          "output_type": "stream",
          "name": "stdout",
          "text": [
            "10\n",
            "Number 4 is smaller than 5.\n",
            "Number 7 is larger than 5.\n",
            "Number 3 is smaller than 5.\n",
            "Number 9 is larger than 5.\n",
            "Number 11 is larger than 5.\n",
            "Number 6 is larger than 5.\n",
            "Number 2 is smaller than 5.\n",
            "Number 1 is smaller than 5.\n",
            "Number 8 is larger than 5.\n",
            "Number 12 is larger than 5.\n"
          ]
        }
      ],
      "source": [
        "# USING OUR OWN NUMBERS\n",
        "numbers = [4,7,3,9,11,6,2,5,8,12]\n",
        "print(len(numbers))\n",
        "\n",
        "for number in numbers:\n",
        "    if number < 5:\n",
        "        print(f'Number {number} is lower than 5.')\n",
        "    elif number > 5:\n",
        "        print(f'Number {number} is larger than 5.')\n",
        "    else:\n",
        "        print(f'Number {number} is equal than 5.')\n"
      ]
    },
    {
      "cell_type": "code",
      "source": [
        "# USING RANDOM NUMBERS WITH A HELP OF CHATGPT (difficult code)\n",
        "import random\n",
        "random_numbers = [random.randint(1, 10) for _ in range(10)]\n",
        "print(random_numbers)\n",
        "print(len(numbers))\n",
        "\n",
        "for number in random_numbers:\n",
        "    if number < 5:\n",
        "        print(f'Number {number} is smaller than 5.')\n",
        "    else:\n",
        "        print(f'Number {number} is larger than 5.')"
      ],
      "metadata": {
        "colab": {
          "base_uri": "https://localhost:8080/"
        },
        "id": "l6AWPG-Uzfuw",
        "outputId": "e3380794-03a9-41c4-9cd8-569b24d983b1"
      },
      "execution_count": 30,
      "outputs": [
        {
          "output_type": "stream",
          "name": "stdout",
          "text": [
            "[3, 6, 8, 9, 3, 6, 4, 6, 9, 4]\n",
            "10\n",
            "Number 3 is smaller than 5.\n",
            "Number 6 is larger than 5.\n",
            "Number 8 is larger than 5.\n",
            "Number 9 is larger than 5.\n",
            "Number 3 is smaller than 5.\n",
            "Number 6 is larger than 5.\n",
            "Number 4 is smaller than 5.\n",
            "Number 6 is larger than 5.\n",
            "Number 9 is larger than 5.\n",
            "Number 4 is smaller than 5.\n"
          ]
        }
      ]
    },
    {
      "cell_type": "code",
      "source": [
        "# LIST WITH RANDOM NUMBERS// IF,ELIF,ELSE\n",
        "import random\n",
        "\n",
        "random_list = random.sample(range(1, 11), 10)\n",
        "\n",
        "print(random_list)\n",
        "\n",
        "for number in random_list:\n",
        "    if number < 5:\n",
        "        print(f'Number {number} is lower than 5.')\n",
        "    elif number > 5:\n",
        "        print(f'Number {number} is larger than 5.')\n",
        "    else:\n",
        "        print(f'Number {number} is equal than 5.')"
      ],
      "metadata": {
        "colab": {
          "base_uri": "https://localhost:8080/"
        },
        "id": "7mqDAyon0ycE",
        "outputId": "03188d29-1acd-43b3-e0c9-75be7f498fd0"
      },
      "execution_count": 28,
      "outputs": [
        {
          "output_type": "stream",
          "name": "stdout",
          "text": [
            "[8, 4, 3, 6, 7, 5, 10, 9, 1, 2]\n",
            "Number 8 is larger than 5.\n",
            "Number 4 is lower than 5.\n",
            "Number 3 is lower than 5.\n",
            "Number 6 is larger than 5.\n",
            "Number 7 is larger than 5.\n",
            "Number 5 is equal than 5.\n",
            "Number 10 is larger than 5.\n",
            "Number 9 is larger than 5.\n",
            "Number 1 is lower than 5.\n",
            "Number 2 is lower than 5.\n"
          ]
        }
      ]
    }
  ]
}