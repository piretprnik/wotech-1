{
  "nbformat": 4,
  "nbformat_minor": 0,
  "metadata": {
    "colab": {
      "provenance": [],
      "authorship_tag": "ABX9TyORFOltEDIyYdpYIGvJNx2O",
      "include_colab_link": true
    },
    "kernelspec": {
      "name": "python3",
      "display_name": "Python 3"
    },
    "language_info": {
      "name": "python"
    }
  },
  "cells": [
    {
      "cell_type": "markdown",
      "metadata": {
        "id": "view-in-github",
        "colab_type": "text"
      },
      "source": [
        "<a href=\"https://colab.research.google.com/github/piretprnik/wotech-1/blob/main/Lesson20.04.ipynb\" target=\"_parent\"><img src=\"https://colab.research.google.com/assets/colab-badge.svg\" alt=\"Open In Colab\"/></a>"
      ]
    },
    {
      "cell_type": "code",
      "execution_count": 1,
      "metadata": {
        "id": "kjktl_euWJle"
      },
      "outputs": [],
      "source": [
        "fruits = [\"apple\", \"orange\", \"banana\", \"grape\", \"kiwi\"]"
      ]
    },
    {
      "cell_type": "code",
      "source": [
        "name = input(\"What is your favourite fruit? \")\n",
        "if name in fruits:\n",
        "    print(f\"Yes, {name} is in the list\")\n",
        "else:\n",
        "    print(f\"No, {name} is not in the list\")"
      ],
      "metadata": {
        "colab": {
          "base_uri": "https://localhost:8080/"
        },
        "id": "tyE9i_35YIPP",
        "outputId": "386a929d-e9be-4daa-8c07-85d4835d847e"
      },
      "execution_count": 5,
      "outputs": [
        {
          "output_type": "stream",
          "name": "stdout",
          "text": [
            "What is your favourite fruit? Apple\n",
            "No, Apple is not in the list\n"
          ]
        }
      ]
    },
    {
      "cell_type": "code",
      "source": [
        "numbers = [1,2,3,4,5]"
      ],
      "metadata": {
        "id": "SriDSliyZYwW"
      },
      "execution_count": 6,
      "outputs": []
    },
    {
      "cell_type": "code",
      "source": [
        "user_input = int(input('Enter a number: '))\n",
        "if user_input in numbers:\n",
        "    if user_input % 2 == 0:\n",
        "        print(f\"Number {user_input} is even.\")\n",
        "    else:\n",
        "        print(f\"Number {user_input} is odd.\")\n",
        "else:\n",
        "    print(f\"Number {user_input} is not in the list.\")\n"
      ],
      "metadata": {
        "colab": {
          "base_uri": "https://localhost:8080/"
        },
        "id": "h57l4W6JZfxe",
        "outputId": "0121c448-0214-4abc-f7e7-105347350125"
      },
      "execution_count": 14,
      "outputs": [
        {
          "output_type": "stream",
          "name": "stdout",
          "text": [
            "Enter a number: 7\n",
            "Number 7 is not in the list.\n"
          ]
        }
      ]
    },
    {
      "cell_type": "markdown",
      "source": [
        "List methods"
      ],
      "metadata": {
        "id": "jl9B-UvHcMJy"
      }
    },
    {
      "cell_type": "code",
      "source": [
        "# APPEND\n",
        "\n",
        "items = ['apple', 'kiwi', 'orange']\n",
        "print(f'original items {items}')\n",
        "\n",
        "my_value = 'banana'\n",
        "items.append(my_value)\n",
        "print(f'changed items {items}')"
      ],
      "metadata": {
        "colab": {
          "base_uri": "https://localhost:8080/"
        },
        "id": "G-XBbqYYcNdw",
        "outputId": "abe94338-843e-4dad-d60b-3fbec78ec047"
      },
      "execution_count": 16,
      "outputs": [
        {
          "output_type": "stream",
          "name": "stdout",
          "text": [
            "original items ['apple', 'kiwi', 'orange']\n",
            "changed items ['apple', 'kiwi', 'orange', 'banana']\n"
          ]
        }
      ]
    },
    {
      "cell_type": "code",
      "source": [
        "# COPY\n",
        "\n",
        "original_list = [1,2,3,4,5]\n",
        "copied_list = original_list.copy()\n",
        "\n",
        "original_list.append(6)\n",
        "\n",
        "print(original_list)\n",
        "print(copied_list)"
      ],
      "metadata": {
        "colab": {
          "base_uri": "https://localhost:8080/"
        },
        "id": "ZjwPdAq_c6x6",
        "outputId": "19ae7d6d-2d30-4f06-e5b5-19ff04345855"
      },
      "execution_count": 17,
      "outputs": [
        {
          "output_type": "stream",
          "name": "stdout",
          "text": [
            "[1, 2, 3, 4, 5, 6]\n",
            "[1, 2, 3, 4, 5]\n"
          ]
        }
      ]
    },
    {
      "cell_type": "code",
      "source": [
        "# COUNT\n",
        "\n",
        "numbers = [2,5,8,4,7,7]\n",
        "\n",
        "target_number = 7\n",
        "count = numbers.count(target_number)\n",
        "print(f'The number {target_number} appears {count} times in the list.')"
      ],
      "metadata": {
        "colab": {
          "base_uri": "https://localhost:8080/"
        },
        "id": "UtDdPrnieAJo",
        "outputId": "bac00dea-964f-4ddd-8f2a-55f348b391db"
      },
      "execution_count": 19,
      "outputs": [
        {
          "output_type": "stream",
          "name": "stdout",
          "text": [
            "The number 7 appears 2 times in the list.\n"
          ]
        }
      ]
    },
    {
      "cell_type": "code",
      "source": [
        "# INDEX\n",
        "\n",
        "fruits = ['apple', 'banana', 'orange']\n",
        "fruits_index = fruits.index('banana')\n",
        "print(f'Index of \"banana\" is: {fruits_index}.')"
      ],
      "metadata": {
        "colab": {
          "base_uri": "https://localhost:8080/"
        },
        "id": "N3N0LKtOgEsS",
        "outputId": "0faf6444-465a-4933-99d7-d9caea5c6ea9"
      },
      "execution_count": 20,
      "outputs": [
        {
          "output_type": "stream",
          "name": "stdout",
          "text": [
            "Index of \"banana\" is: 1.\n"
          ]
        }
      ]
    },
    {
      "cell_type": "code",
      "source": [
        "# INSERT\n",
        "\n",
        "numbers = [1,2,3,4,5]\n",
        "numbers.insert(2, 10)\n",
        "print(numbers)"
      ],
      "metadata": {
        "colab": {
          "base_uri": "https://localhost:8080/"
        },
        "id": "1rFxce-BgvIB",
        "outputId": "c7dc2baf-5c37-4846-8b9b-45bdb8ea7528"
      },
      "execution_count": 21,
      "outputs": [
        {
          "output_type": "stream",
          "name": "stdout",
          "text": [
            "[1, 2, 10, 3, 4, 5]\n"
          ]
        }
      ]
    },
    {
      "cell_type": "code",
      "source": [
        "# POP\n",
        "\n",
        "numbers.pop(2)\n",
        "print(numbers)"
      ],
      "metadata": {
        "colab": {
          "base_uri": "https://localhost:8080/"
        },
        "id": "0h-6q31GhbIW",
        "outputId": "3869c887-4a22-4946-dd54-ab79645ef53a"
      },
      "execution_count": 22,
      "outputs": [
        {
          "output_type": "stream",
          "name": "stdout",
          "text": [
            "[1, 2, 3, 4, 5]\n"
          ]
        }
      ]
    },
    {
      "cell_type": "code",
      "source": [
        "# SORT\n",
        "\n",
        "numbers = [6,9,10,3,5]\n",
        "numbers.sort()\n",
        "print(numbers)"
      ],
      "metadata": {
        "colab": {
          "base_uri": "https://localhost:8080/"
        },
        "id": "Lcm8rvXUh8XA",
        "outputId": "5c4b22fb-517f-49d5-f365-0930dbbe5216"
      },
      "execution_count": 23,
      "outputs": [
        {
          "output_type": "stream",
          "name": "stdout",
          "text": [
            "[3, 5, 6, 9, 10]\n"
          ]
        }
      ]
    },
    {
      "cell_type": "markdown",
      "source": [
        "Create a list of 5 number elements\n",
        "\n",
        "Calculate maximum value of the numbers\n",
        "\n",
        "Calculate minimum value of the numbers\n",
        "\n",
        "Calculate average value of numbers\n",
        "\n",
        "Check if the average value of the list if higher than 3\n",
        "\n",
        "If the average is greater than 3, print \"Average is greater than 3\", otherwise print \"Average is not greater than 3\".\n",
        "\n",
        "Sort the list\n",
        "\n",
        "Remove first number of the list\n",
        "\n",
        "Add your name to the list\n",
        "\n",
        "Calculate at what index is your name\n",
        "\n",
        "DONE"
      ],
      "metadata": {
        "id": "TlnlfwBdrr7a"
      }
    },
    {
      "cell_type": "code",
      "source": [
        "# CREATE A LIST OF 5 ELEMENTS\n",
        "numbers = [1,7,5,3,4]\n",
        "print(numbers)\n",
        "\n",
        "# MAXIMUM VALUE OF THE NUMBERS\n",
        "max_value = max(numbers)\n",
        "print(f'Maximum number is {max_value}.')\n",
        "\n",
        "# MINIMUM VALUE OF THE NUMBERS\n",
        "min_value = min(numbers)\n",
        "print(f'Minimum value is {min_value}.')\n",
        "\n",
        "# AVERAGE VALUE OF THE NUMBERS\n",
        "average_value = sum(numbers) / len(numbers)\n",
        "print(f'Average value of the list is {average_value}')\n",
        "\n",
        "# CHECK IF AVG VALUE IS GREATER OR SMALLER THAN 3\n",
        "if average_value > 3:\n",
        "    print('Average value is greater than 3.')\n",
        "else:\n",
        "    print('Average value is less than 3.')\n",
        "\n",
        "# SORT THE LIST\n",
        "numbers.sort()\n",
        "print(numbers)\n",
        "\n",
        "# REMOVE THE NUMBER ON THE LIST\n",
        "numbers.pop(0)\n",
        "print(numbers)\n",
        "\n",
        "#ADD YOUR NAME TO THE LIST\n",
        "numbers.insert(3, 'piret')\n",
        "print(numbers)\n",
        "\n",
        "# CALCULATE AT WHAT INDEX IS YOUR NAME\n",
        "numbers.index('piret')"
      ],
      "metadata": {
        "colab": {
          "base_uri": "https://localhost:8080/"
        },
        "id": "RzAi6wEMmBB1",
        "outputId": "a99639b4-f704-4608-a729-373575d3d972"
      },
      "execution_count": 10,
      "outputs": [
        {
          "output_type": "stream",
          "name": "stdout",
          "text": [
            "[1, 7, 5, 3, 4]\n",
            "Maximum number is 7.\n",
            "Minimum value is 1.\n",
            "Average value of the list is 4.0\n",
            "Average value is greater than 3.\n",
            "[1, 3, 4, 5, 7]\n",
            "[3, 4, 5, 7]\n",
            "[3, 4, 5, 'piret', 7]\n"
          ]
        },
        {
          "output_type": "execute_result",
          "data": {
            "text/plain": [
              "3"
            ]
          },
          "metadata": {},
          "execution_count": 10
        }
      ]
    },
    {
      "cell_type": "markdown",
      "source": [
        "**RANGE**\n",
        "range(start, stop, step)"
      ],
      "metadata": {
        "id": "OSD7zoLXr-02"
      }
    },
    {
      "cell_type": "code",
      "source": [
        "list(range(10, 100, 10)) #last element not included"
      ],
      "metadata": {
        "colab": {
          "base_uri": "https://localhost:8080/"
        },
        "id": "eeZjSyJjr-Ot",
        "outputId": "ee5eb3f7-f656-42d3-d696-9237c812abc4"
      },
      "execution_count": 6,
      "outputs": [
        {
          "output_type": "execute_result",
          "data": {
            "text/plain": [
              "[10, 20, 30, 40, 50, 60, 70, 80, 90]"
            ]
          },
          "metadata": {},
          "execution_count": 6
        }
      ]
    },
    {
      "cell_type": "code",
      "source": [
        "list(range(7))"
      ],
      "metadata": {
        "colab": {
          "base_uri": "https://localhost:8080/"
        },
        "id": "OQd7yC8RskTs",
        "outputId": "375fc7ce-9e6e-4088-8571-916820e6a697"
      },
      "execution_count": 7,
      "outputs": [
        {
          "output_type": "execute_result",
          "data": {
            "text/plain": [
              "[0, 1, 2, 3, 4, 5, 6]"
            ]
          },
          "metadata": {},
          "execution_count": 7
        }
      ]
    },
    {
      "cell_type": "code",
      "source": [
        "numbers_with_range = range(1,7) #iterable object [1,2,3,4,5,6]"
      ],
      "metadata": {
        "id": "BUo8bs1js7yf"
      },
      "execution_count": 9,
      "outputs": []
    },
    {
      "cell_type": "code",
      "source": [
        "for number in numbers_with_range:\n",
        "    number = number*2\n",
        "    print(number)"
      ],
      "metadata": {
        "colab": {
          "base_uri": "https://localhost:8080/"
        },
        "id": "mEfaXzBatoZn",
        "outputId": "c1b54acf-9c8d-49d9-cf0a-d4d57d0a33c9"
      },
      "execution_count": 11,
      "outputs": [
        {
          "output_type": "stream",
          "name": "stdout",
          "text": [
            "2\n",
            "4\n",
            "6\n",
            "8\n",
            "10\n",
            "12\n"
          ]
        }
      ]
    },
    {
      "cell_type": "code",
      "source": [
        "friends = ['Anna', 'Peter', 'Erika', 'Roberta']\n",
        "for friends in friends:\n",
        "  print(f'Hey hey {friends}!')"
      ],
      "metadata": {
        "colab": {
          "base_uri": "https://localhost:8080/"
        },
        "id": "eHcWV5E_upDw",
        "outputId": "7a63195d-8f1a-4416-c53f-52c68e3688f9"
      },
      "execution_count": 4,
      "outputs": [
        {
          "output_type": "stream",
          "name": "stdout",
          "text": [
            "Hey hey Anna!\n",
            "Hey hey Peter!\n",
            "Hey hey Erika!\n",
            "Hey hey Roberta!\n"
          ]
        }
      ]
    },
    {
      "cell_type": "code",
      "source": [
        "friends = ['Anna', 'Peter', 'Erika', 'Roberta']\n",
        "for friend in friends:\n",
        "  print(f'Hey hey {friend}!')"
      ],
      "metadata": {
        "colab": {
          "base_uri": "https://localhost:8080/"
        },
        "id": "T5bs4FqpvqhT",
        "outputId": "fbde4dd5-af56-4653-a6c7-289237952bc2"
      },
      "execution_count": 5,
      "outputs": [
        {
          "output_type": "stream",
          "name": "stdout",
          "text": [
            "Hey hey Anna!\n",
            "Hey hey Peter!\n",
            "Hey hey Erika!\n",
            "Hey hey Roberta!\n"
          ]
        }
      ]
    }
  ]
}